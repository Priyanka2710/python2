{
 "cells": [
  {
   "cell_type": "markdown",
   "metadata": {},
   "source": [
    "# TASK-1\n",
    "Q.1)Create the below pattern using nested for loop in Python. * * * * * * * * * * * * * * * * * * * * * * * * *"
   ]
  },
  {
   "cell_type": "code",
   "execution_count": 1,
   "metadata": {},
   "outputs": [
    {
     "name": "stdout",
     "output_type": "stream",
     "text": [
      "Enter total no of rows:9\n",
      "Enter no of incline pattern rows:5\n",
      "Enter no of decline pattern rows:4\n",
      "*\n",
      "**\n",
      "***\n",
      "****\n",
      "*****\n",
      "****\n",
      "***\n",
      "**\n",
      "*\n"
     ]
    }
   ],
   "source": [
    "total=int(input(\"Enter total no of rows:\"))\n",
    "num=int(input(\"Enter no of incline pattern rows:\"))\n",
    "num2=int(input(\"Enter no of decline pattern rows:\"))\n",
    "\n",
    "for i in range(1,num+1):     #for incline pattern logic\n",
    "    if(i==num+1):\n",
    "         break\n",
    "    for j in range(1,i+1):\n",
    "        print (\"*\",end=\"\")    #print * and then end with space \n",
    "    print()\n",
    "\n",
    "for x in range(1,num2+1):     #for decline pattern logic\n",
    "    for y in range(x,num2+1):\n",
    "        print(\"*\",end=\"\")\n",
    "    print()\n",
    "\n",
    "\n",
    "                                                        \n",
    "           "
   ]
  },
  {
   "cell_type": "markdown",
   "metadata": {},
   "source": [
    "Q.2)Write a Python program to reverse a word after accepting the input from the user. Sample Output: ; Input word:ineuron ; Output:norueni"
   ]
  },
  {
   "cell_type": "code",
   "execution_count": 1,
   "metadata": {},
   "outputs": [
    {
     "name": "stdout",
     "output_type": "stream",
     "text": [
      "input word: Ineuron\n",
      "output word: noruenI\n"
     ]
    }
   ],
   "source": [
    "\n",
    "word=input(\"input word: \")   #take a string from user\n",
    "output=word[::-1]           #reverse the string and store in output\n",
    "print(\"output word:\",output )\n",
    "\n"
   ]
  },
  {
   "cell_type": "code",
   "execution_count": null,
   "metadata": {},
   "outputs": [],
   "source": []
  },
  {
   "cell_type": "code",
   "execution_count": null,
   "metadata": {},
   "outputs": [],
   "source": []
  },
  {
   "cell_type": "markdown",
   "metadata": {},
   "source": []
  }
 ],
 "metadata": {
  "kernelspec": {
   "display_name": "Python 3",
   "language": "python",
   "name": "python3"
  },
  "language_info": {
   "codemirror_mode": {
    "name": "ipython",
    "version": 3
   },
   "file_extension": ".py",
   "mimetype": "text/x-python",
   "name": "python",
   "nbconvert_exporter": "python",
   "pygments_lexer": "ipython3",
   "version": "3.7.2"
  }
 },
 "nbformat": 4,
 "nbformat_minor": 4
}
